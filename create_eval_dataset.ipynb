{
 "cells": [
  {
   "attachments": {},
   "cell_type": "markdown",
   "metadata": {},
   "source": [
    "Create the paraphrase evaluation dataset to test each model\n",
    "\n",
    "The dataset will combine different datasets from different sources\n",
    "1. PAWS Dataset. [Link Here](https://huggingface.co/datasets/paws)."
   ]
  },
  {
   "cell_type": "code",
   "execution_count": 1,
   "metadata": {},
   "outputs": [],
   "source": [
    "from datasets import load_dataset\n",
    "import pandas as pd\n",
    "import re"
   ]
  },
  {
   "cell_type": "code",
   "execution_count": 2,
   "metadata": {},
   "outputs": [
    {
     "name": "stderr",
     "output_type": "stream",
     "text": [
      "Reusing dataset paws (/Users/sameermalik/.cache/huggingface/datasets/paws/labeled_final/1.1.0/8d567c6472623f42bd2cc635cad06932d0f0cd2f897db56013c1180f4317d338)\n",
      "100%|██████████| 3/3 [00:00<00:00, 75.53it/s]\n",
      "Using custom data configuration default\n",
      "Reusing dataset quora (/Users/sameermalik/.cache/huggingface/datasets/quora/default/0.0.0/36ba4cd42107f051a158016f1bea6ae3f4685c5df843529108a54e42d86c1e04)\n",
      "100%|██████████| 1/1 [00:00<00:00, 51.23it/s]\n"
     ]
    }
   ],
   "source": [
    "paws_data = load_dataset(\"paws\", \"labeled_final\")\n",
    "quora_data = load_dataset(\"quora\")"
   ]
  },
  {
   "cell_type": "code",
   "execution_count": 3,
   "metadata": {},
   "outputs": [],
   "source": [
    "paws_df = pd.DataFrame(paws_data[\"test\"])\n",
    "quora_df = pd.DataFrame(quora_data[\"train\"])"
   ]
  },
  {
   "cell_type": "code",
   "execution_count": 4,
   "metadata": {},
   "outputs": [],
   "source": [
    "paws_df_filtered = paws_df[paws_df[\"label\"]==1]\n",
    "quora_df_filtered = quora_df[quora_df[\"is_duplicate\"]==False]"
   ]
  },
  {
   "cell_type": "code",
   "execution_count": 5,
   "metadata": {},
   "outputs": [
    {
     "name": "stderr",
     "output_type": "stream",
     "text": [
      "/var/folders/1d/d4mhd8d16rb8x5vglgfk9bv80000gn/T/ipykernel_80648/3728472927.py:4: SettingWithCopyWarning: \n",
      "A value is trying to be set on a copy of a slice from a DataFrame.\n",
      "Try using .loc[row_indexer,col_indexer] = value instead\n",
      "\n",
      "See the caveats in the documentation: https://pandas.pydata.org/pandas-docs/stable/user_guide/indexing.html#returning-a-view-versus-a-copy\n",
      "  quora_df_filtered[\"sentence1\"], quora_df_filtered[\"sentence2\"] = zip(*quora_df_filtered['questions'].map(quora_to_sentence_pair))\n",
      "/var/folders/1d/d4mhd8d16rb8x5vglgfk9bv80000gn/T/ipykernel_80648/3728472927.py:4: SettingWithCopyWarning: \n",
      "A value is trying to be set on a copy of a slice from a DataFrame.\n",
      "Try using .loc[row_indexer,col_indexer] = value instead\n",
      "\n",
      "See the caveats in the documentation: https://pandas.pydata.org/pandas-docs/stable/user_guide/indexing.html#returning-a-view-versus-a-copy\n",
      "  quora_df_filtered[\"sentence1\"], quora_df_filtered[\"sentence2\"] = zip(*quora_df_filtered['questions'].map(quora_to_sentence_pair))\n"
     ]
    }
   ],
   "source": [
    "def quora_to_sentence_pair(d):\n",
    "       text = d[\"text\"]\n",
    "       return text[0], text[1]\n",
    "quora_df_filtered[\"sentence1\"], quora_df_filtered[\"sentence2\"] = zip(*quora_df_filtered['questions'].map(quora_to_sentence_pair))"
   ]
  },
  {
   "attachments": {},
   "cell_type": "markdown",
   "metadata": {},
   "source": [
    "We only need the input sentence\n",
    "\n",
    "Data normalization:\n",
    "- remove all sentences with special characters\n",
    "- lowercase"
   ]
  },
  {
   "cell_type": "code",
   "execution_count": 21,
   "metadata": {},
   "outputs": [],
   "source": [
    "l1 = list(paws_df_filtered[\"sentence1\"])\n",
    "l2 = list(quora_df_filtered[\"sentence1\"])\n",
    "eval_dataset = pd.DataFrame(l1+l2, columns=[\"sentence1\"])"
   ]
  },
  {
   "cell_type": "code",
   "execution_count": 22,
   "metadata": {},
   "outputs": [
    {
     "data": {
      "text/html": [
       "<div>\n",
       "<style scoped>\n",
       "    .dataframe tbody tr th:only-of-type {\n",
       "        vertical-align: middle;\n",
       "    }\n",
       "\n",
       "    .dataframe tbody tr th {\n",
       "        vertical-align: top;\n",
       "    }\n",
       "\n",
       "    .dataframe thead th {\n",
       "        text-align: right;\n",
       "    }\n",
       "</style>\n",
       "<table border=\"1\" class=\"dataframe\">\n",
       "  <thead>\n",
       "    <tr style=\"text-align: right;\">\n",
       "      <th></th>\n",
       "      <th>sentence1</th>\n",
       "    </tr>\n",
       "  </thead>\n",
       "  <tbody>\n",
       "    <tr>\n",
       "      <th>0</th>\n",
       "      <td>In January 2011 , the Deputy Secretary General...</td>\n",
       "    </tr>\n",
       "    <tr>\n",
       "      <th>1</th>\n",
       "      <td>During her sophomore , junior and senior summe...</td>\n",
       "    </tr>\n",
       "    <tr>\n",
       "      <th>2</th>\n",
       "      <td>His father emigrated to Missouri in 1868 , but...</td>\n",
       "    </tr>\n",
       "    <tr>\n",
       "      <th>3</th>\n",
       "      <td>It is situated south of Köroğlu Mountains and ...</td>\n",
       "    </tr>\n",
       "    <tr>\n",
       "      <th>4</th>\n",
       "      <td>The Río Blanco mine is a large copper mine loc...</td>\n",
       "    </tr>\n",
       "    <tr>\n",
       "      <th>...</th>\n",
       "      <td>...</td>\n",
       "    </tr>\n",
       "    <tr>\n",
       "      <th>258558</th>\n",
       "      <td>What do you think of the removal of the MagSaf...</td>\n",
       "    </tr>\n",
       "    <tr>\n",
       "      <th>258559</th>\n",
       "      <td>How many keywords are there in the Racket prog...</td>\n",
       "    </tr>\n",
       "    <tr>\n",
       "      <th>258560</th>\n",
       "      <td>What is one coin?</td>\n",
       "    </tr>\n",
       "    <tr>\n",
       "      <th>258561</th>\n",
       "      <td>What is the approx annual cost of living while...</td>\n",
       "    </tr>\n",
       "    <tr>\n",
       "      <th>258562</th>\n",
       "      <td>What is like to have sex with cousin?</td>\n",
       "    </tr>\n",
       "  </tbody>\n",
       "</table>\n",
       "<p>258563 rows × 1 columns</p>\n",
       "</div>"
      ],
      "text/plain": [
       "                                                sentence1\n",
       "0       In January 2011 , the Deputy Secretary General...\n",
       "1       During her sophomore , junior and senior summe...\n",
       "2       His father emigrated to Missouri in 1868 , but...\n",
       "3       It is situated south of Köroğlu Mountains and ...\n",
       "4       The Río Blanco mine is a large copper mine loc...\n",
       "...                                                   ...\n",
       "258558  What do you think of the removal of the MagSaf...\n",
       "258559  How many keywords are there in the Racket prog...\n",
       "258560                                  What is one coin?\n",
       "258561  What is the approx annual cost of living while...\n",
       "258562              What is like to have sex with cousin?\n",
       "\n",
       "[258563 rows x 1 columns]"
      ]
     },
     "execution_count": 22,
     "metadata": {},
     "output_type": "execute_result"
    }
   ],
   "source": [
    "eval_dataset"
   ]
  },
  {
   "cell_type": "code",
   "execution_count": 23,
   "metadata": {},
   "outputs": [],
   "source": [
    "# the list of character we do not want to include\n",
    "special_characters = '`[@_#$-+=%^&*()<>?/\\|}{~:]\\\"'\n"
   ]
  },
  {
   "cell_type": "code",
   "execution_count": 24,
   "metadata": {},
   "outputs": [],
   "source": [
    "eval_dataset[\"contains_special\"] = eval_dataset[\"sentence1\"].apply(lambda x: any(c in special_characters for c in x))"
   ]
  },
  {
   "cell_type": "code",
   "execution_count": 25,
   "metadata": {},
   "outputs": [],
   "source": [
    "eval_dataset = eval_dataset[eval_dataset[\"contains_special\"]==False]"
   ]
  },
  {
   "cell_type": "code",
   "execution_count": 26,
   "metadata": {},
   "outputs": [
    {
     "name": "stderr",
     "output_type": "stream",
     "text": [
      "/var/folders/1d/d4mhd8d16rb8x5vglgfk9bv80000gn/T/ipykernel_80648/2096775824.py:2: SettingWithCopyWarning: \n",
      "A value is trying to be set on a copy of a slice from a DataFrame.\n",
      "Try using .loc[row_indexer,col_indexer] = value instead\n",
      "\n",
      "See the caveats in the documentation: https://pandas.pydata.org/pandas-docs/stable/user_guide/indexing.html#returning-a-view-versus-a-copy\n",
      "  eval_dataset[\"sentence_length\"] = eval_dataset[\"sentence1\"].apply(lambda x: len(x.split()))\n"
     ]
    }
   ],
   "source": [
    "# add a column for sentence length\n",
    "eval_dataset[\"sentence_length\"] = eval_dataset[\"sentence1\"].apply(lambda x: len(x.split()))"
   ]
  },
  {
   "cell_type": "code",
   "execution_count": 27,
   "metadata": {},
   "outputs": [
    {
     "data": {
      "text/html": [
       "<div>\n",
       "<style scoped>\n",
       "    .dataframe tbody tr th:only-of-type {\n",
       "        vertical-align: middle;\n",
       "    }\n",
       "\n",
       "    .dataframe tbody tr th {\n",
       "        vertical-align: top;\n",
       "    }\n",
       "\n",
       "    .dataframe thead th {\n",
       "        text-align: right;\n",
       "    }\n",
       "</style>\n",
       "<table border=\"1\" class=\"dataframe\">\n",
       "  <thead>\n",
       "    <tr style=\"text-align: right;\">\n",
       "      <th></th>\n",
       "      <th>sentence1</th>\n",
       "      <th>contains_special</th>\n",
       "      <th>sentence_length</th>\n",
       "    </tr>\n",
       "  </thead>\n",
       "  <tbody>\n",
       "    <tr>\n",
       "      <th>1</th>\n",
       "      <td>During her sophomore , junior and senior summe...</td>\n",
       "      <td>False</td>\n",
       "      <td>28</td>\n",
       "    </tr>\n",
       "    <tr>\n",
       "      <th>2</th>\n",
       "      <td>His father emigrated to Missouri in 1868 , but...</td>\n",
       "      <td>False</td>\n",
       "      <td>27</td>\n",
       "    </tr>\n",
       "    <tr>\n",
       "      <th>3</th>\n",
       "      <td>It is situated south of Köroğlu Mountains and ...</td>\n",
       "      <td>False</td>\n",
       "      <td>14</td>\n",
       "    </tr>\n",
       "    <tr>\n",
       "      <th>4</th>\n",
       "      <td>The Río Blanco mine is a large copper mine loc...</td>\n",
       "      <td>False</td>\n",
       "      <td>19</td>\n",
       "    </tr>\n",
       "    <tr>\n",
       "      <th>5</th>\n",
       "      <td>The spectral levels of light that can be measu...</td>\n",
       "      <td>False</td>\n",
       "      <td>28</td>\n",
       "    </tr>\n",
       "    <tr>\n",
       "      <th>...</th>\n",
       "      <td>...</td>\n",
       "      <td>...</td>\n",
       "      <td>...</td>\n",
       "    </tr>\n",
       "    <tr>\n",
       "      <th>253345</th>\n",
       "      <td>The best fun programming talks</td>\n",
       "      <td>False</td>\n",
       "      <td>5</td>\n",
       "    </tr>\n",
       "    <tr>\n",
       "      <th>254079</th>\n",
       "      <td>My father has got brain stroke and I have lots...</td>\n",
       "      <td>False</td>\n",
       "      <td>33</td>\n",
       "    </tr>\n",
       "    <tr>\n",
       "      <th>254505</th>\n",
       "      <td>How can I find a publisher, I know this is pos...</td>\n",
       "      <td>False</td>\n",
       "      <td>26</td>\n",
       "    </tr>\n",
       "    <tr>\n",
       "      <th>255062</th>\n",
       "      <td>What are some cheaper or better alternatives t...</td>\n",
       "      <td>False</td>\n",
       "      <td>13</td>\n",
       "    </tr>\n",
       "    <tr>\n",
       "      <th>255189</th>\n",
       "      <td>Can an organization sue you for defamation bas...</td>\n",
       "      <td>False</td>\n",
       "      <td>26</td>\n",
       "    </tr>\n",
       "  </tbody>\n",
       "</table>\n",
       "<p>2749 rows × 3 columns</p>\n",
       "</div>"
      ],
      "text/plain": [
       "                                                sentence1  contains_special  \\\n",
       "1       During her sophomore , junior and senior summe...             False   \n",
       "2       His father emigrated to Missouri in 1868 , but...             False   \n",
       "3       It is situated south of Köroğlu Mountains and ...             False   \n",
       "4       The Río Blanco mine is a large copper mine loc...             False   \n",
       "5       The spectral levels of light that can be measu...             False   \n",
       "...                                                   ...               ...   \n",
       "253345                     The best fun programming talks             False   \n",
       "254079  My father has got brain stroke and I have lots...             False   \n",
       "254505  How can I find a publisher, I know this is pos...             False   \n",
       "255062  What are some cheaper or better alternatives t...             False   \n",
       "255189  Can an organization sue you for defamation bas...             False   \n",
       "\n",
       "        sentence_length  \n",
       "1                    28  \n",
       "2                    27  \n",
       "3                    14  \n",
       "4                    19  \n",
       "5                    28  \n",
       "...                 ...  \n",
       "253345                5  \n",
       "254079               33  \n",
       "254505               26  \n",
       "255062               13  \n",
       "255189               26  \n",
       "\n",
       "[2749 rows x 3 columns]"
      ]
     },
     "execution_count": 27,
     "metadata": {},
     "output_type": "execute_result"
    }
   ],
   "source": [
    "eval_dataset"
   ]
  },
  {
   "cell_type": "code",
   "execution_count": 28,
   "metadata": {},
   "outputs": [],
   "source": [
    "eval_dataset = eval_dataset[(eval_dataset[\"sentence_length\"]>=7) & (eval_dataset[\"sentence_length\"]<=20)]"
   ]
  },
  {
   "cell_type": "code",
   "execution_count": 29,
   "metadata": {},
   "outputs": [
    {
     "data": {
      "text/html": [
       "<div>\n",
       "<style scoped>\n",
       "    .dataframe tbody tr th:only-of-type {\n",
       "        vertical-align: middle;\n",
       "    }\n",
       "\n",
       "    .dataframe tbody tr th {\n",
       "        vertical-align: top;\n",
       "    }\n",
       "\n",
       "    .dataframe thead th {\n",
       "        text-align: right;\n",
       "    }\n",
       "</style>\n",
       "<table border=\"1\" class=\"dataframe\">\n",
       "  <thead>\n",
       "    <tr style=\"text-align: right;\">\n",
       "      <th></th>\n",
       "      <th>sentence1</th>\n",
       "      <th>contains_special</th>\n",
       "      <th>sentence_length</th>\n",
       "    </tr>\n",
       "  </thead>\n",
       "  <tbody>\n",
       "    <tr>\n",
       "      <th>3</th>\n",
       "      <td>It is situated south of Köroğlu Mountains and ...</td>\n",
       "      <td>False</td>\n",
       "      <td>14</td>\n",
       "    </tr>\n",
       "    <tr>\n",
       "      <th>4</th>\n",
       "      <td>The Río Blanco mine is a large copper mine loc...</td>\n",
       "      <td>False</td>\n",
       "      <td>19</td>\n",
       "    </tr>\n",
       "    <tr>\n",
       "      <th>6</th>\n",
       "      <td>The Sunset Sunset Road comes from right and be...</td>\n",
       "      <td>False</td>\n",
       "      <td>13</td>\n",
       "    </tr>\n",
       "    <tr>\n",
       "      <th>7</th>\n",
       "      <td>Mr. Thuso Nokwanda Mbedu was born in Pietermar...</td>\n",
       "      <td>False</td>\n",
       "      <td>12</td>\n",
       "    </tr>\n",
       "    <tr>\n",
       "      <th>9</th>\n",
       "      <td>Owned by Rick and Sheri Dorritie is Megasaurus...</td>\n",
       "      <td>False</td>\n",
       "      <td>15</td>\n",
       "    </tr>\n",
       "    <tr>\n",
       "      <th>...</th>\n",
       "      <td>...</td>\n",
       "      <td>...</td>\n",
       "      <td>...</td>\n",
       "    </tr>\n",
       "    <tr>\n",
       "      <th>245846</th>\n",
       "      <td>Why do the Indian media,Government takes the c...</td>\n",
       "      <td>False</td>\n",
       "      <td>17</td>\n",
       "    </tr>\n",
       "    <tr>\n",
       "      <th>246411</th>\n",
       "      <td>What percentage of people have GPS in use at a...</td>\n",
       "      <td>False</td>\n",
       "      <td>12</td>\n",
       "    </tr>\n",
       "    <tr>\n",
       "      <th>248660</th>\n",
       "      <td>if rating agencies downgrade a currency what i...</td>\n",
       "      <td>False</td>\n",
       "      <td>20</td>\n",
       "    </tr>\n",
       "    <tr>\n",
       "      <th>253098</th>\n",
       "      <td>What's the worst thing you been threw</td>\n",
       "      <td>False</td>\n",
       "      <td>7</td>\n",
       "    </tr>\n",
       "    <tr>\n",
       "      <th>255062</th>\n",
       "      <td>What are some cheaper or better alternatives t...</td>\n",
       "      <td>False</td>\n",
       "      <td>13</td>\n",
       "    </tr>\n",
       "  </tbody>\n",
       "</table>\n",
       "<p>1492 rows × 3 columns</p>\n",
       "</div>"
      ],
      "text/plain": [
       "                                                sentence1  contains_special  \\\n",
       "3       It is situated south of Köroğlu Mountains and ...             False   \n",
       "4       The Río Blanco mine is a large copper mine loc...             False   \n",
       "6       The Sunset Sunset Road comes from right and be...             False   \n",
       "7       Mr. Thuso Nokwanda Mbedu was born in Pietermar...             False   \n",
       "9       Owned by Rick and Sheri Dorritie is Megasaurus...             False   \n",
       "...                                                   ...               ...   \n",
       "245846  Why do the Indian media,Government takes the c...             False   \n",
       "246411  What percentage of people have GPS in use at a...             False   \n",
       "248660  if rating agencies downgrade a currency what i...             False   \n",
       "253098              What's the worst thing you been threw             False   \n",
       "255062  What are some cheaper or better alternatives t...             False   \n",
       "\n",
       "        sentence_length  \n",
       "3                    14  \n",
       "4                    19  \n",
       "6                    13  \n",
       "7                    12  \n",
       "9                    15  \n",
       "...                 ...  \n",
       "245846               17  \n",
       "246411               12  \n",
       "248660               20  \n",
       "253098                7  \n",
       "255062               13  \n",
       "\n",
       "[1492 rows x 3 columns]"
      ]
     },
     "execution_count": 29,
     "metadata": {},
     "output_type": "execute_result"
    }
   ],
   "source": [
    "eval_dataset"
   ]
  },
  {
   "cell_type": "code",
   "execution_count": 30,
   "metadata": {},
   "outputs": [
    {
     "data": {
      "text/plain": [
       "Counter({14: 135,\n",
       "         19: 204,\n",
       "         13: 134,\n",
       "         12: 99,\n",
       "         15: 152,\n",
       "         17: 145,\n",
       "         18: 177,\n",
       "         16: 143,\n",
       "         20: 148,\n",
       "         11: 36,\n",
       "         10: 37,\n",
       "         9: 36,\n",
       "         8: 24,\n",
       "         7: 22})"
      ]
     },
     "execution_count": 30,
     "metadata": {},
     "output_type": "execute_result"
    }
   ],
   "source": [
    "from collections import Counter\n",
    "Counter(eval_dataset[\"sentence_length\"])"
   ]
  },
  {
   "cell_type": "code",
   "execution_count": 31,
   "metadata": {},
   "outputs": [
    {
     "data": {
      "text/plain": [
       "140"
      ]
     },
     "execution_count": 31,
     "metadata": {},
     "output_type": "execute_result"
    }
   ],
   "source": [
    "from random import sample\n",
    "# select random sentences with different lengths\n",
    "sentences = []\n",
    "for i in range(7, 21):\n",
    "       # find list of sentences with length i\n",
    "       temp_sentences = list(eval_dataset[(eval_dataset[\"sentence_length\"]==i)][\"sentence1\"])\n",
    "       if not temp_sentences:\n",
    "              continue\n",
    "       c = sample(temp_sentences, 10)\n",
    "       sentences += c\n",
    "\n",
    "len(sentences)\n"
   ]
  },
  {
   "cell_type": "code",
   "execution_count": 32,
   "metadata": {},
   "outputs": [],
   "source": [
    "output_file = \"eval.txt\"\n",
    "with open(output_file, 'w+') as fp:\n",
    "       for item in sentences:\n",
    "              # write each item on a new line\n",
    "              fp.write(\"%s\\n\" % item)\n"
   ]
  }
 ],
 "metadata": {
  "kernelspec": {
   "display_name": "Python 3.8.6 64-bit",
   "language": "python",
   "name": "python3"
  },
  "language_info": {
   "codemirror_mode": {
    "name": "ipython",
    "version": 3
   },
   "file_extension": ".py",
   "mimetype": "text/x-python",
   "name": "python",
   "nbconvert_exporter": "python",
   "pygments_lexer": "ipython3",
   "version": "3.8.6 (v3.8.6:db455296be, Sep 23 2020, 13:31:39) \n[Clang 6.0 (clang-600.0.57)]"
  },
  "orig_nbformat": 4,
  "vscode": {
   "interpreter": {
    "hash": "0adcc2737ebf6a4a119f135174df96668767fca1ef1112612db5ecadf2b6d608"
   }
  }
 },
 "nbformat": 4,
 "nbformat_minor": 2
}
